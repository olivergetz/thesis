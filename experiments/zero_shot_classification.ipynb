{
 "cells": [
  {
   "cell_type": "markdown",
   "metadata": {},
   "source": [
    "# Zero-Shot Classification using CLAP Models"
   ]
  },
  {
   "cell_type": "code",
   "execution_count": 5,
   "metadata": {},
   "outputs": [],
   "source": [
    "from msclap import CLAP\n",
    "import laion_clap\n",
    "import json\n",
    "import pandas as pd\n",
    "from dataset import DatasetUCS\n",
    "import torch\n",
    "import matplotlib.pyplot as plt\n",
    "import configs.graphics_settings as graphics_settings\n",
    "import random\n",
    "import IPython.display as ipd\n",
    "from sklearn.manifold import TSNE"
   ]
  },
  {
   "cell_type": "code",
   "execution_count": 6,
   "metadata": {},
   "outputs": [],
   "source": [
    "# Load Testing Set\n",
    "with open ('configs/msclap.json', 'r') as f:\n",
    "    settings = json.load (f)\n",
    "\n",
    "# Load USC Classes\n",
    "with open ('contrastive_reranking/ucs_classes.json', 'r') as f:\n",
    "    ucs_classes = json.load (f)\n",
    "\n",
    "test_df = pd.read_csv(settings['dataset_drive'] + settings['test_set_path'])\n",
    "test_set = DatasetUCS(test_df, settings, device='cpu', return_type='path')\n",
    "\n",
    "msclap_model = CLAP(version = '2023', use_cuda=False) # version can be 2022 or 2023\n",
    "#laion_clap_model = laion_clap.CLAP_Module(enable_fusion=False)\n",
    "#laion_clap_model.load_ckpt()\n"
   ]
  },
  {
   "cell_type": "markdown",
   "metadata": {},
   "source": [
    "## MS CLAP\n",
    "This section evaluates MSCLAP on Soundly-80k through the following metrics: Precision, Recall, Mean Average Precision"
   ]
  },
  {
   "cell_type": "code",
   "execution_count": 26,
   "metadata": {},
   "outputs": [
    {
     "name": "stdout",
     "output_type": "stream",
     "text": [
      "Shape: torch.Size([1, 81])\n",
      "Predicted Class (Best Prediction): swooshes\n",
      "Predicted Classes (Best Match To Worst): swooshes, movement, bullets\n",
      "True Class: swooshes\n"
     ]
    }
   ],
   "source": [
    "sample_idx = random.randint(0, len(test_set))\n",
    "path, label, class_name = test_set[sample_idx]\n",
    "\n",
    "# Extract Embeddings\n",
    "audio_embeddings = msclap_model.get_audio_embeddings([path])\n",
    "label_embeddings = msclap_model.get_text_embeddings(test_set.get_unique_classes())\n",
    "similarities = msclap_model.compute_similarity(audio_embeddings, label_embeddings)\n",
    "\n",
    "similarities = similarities.detach()\n",
    "print(f\"Shape: {similarities.shape}\")\n",
    "probs = torch.softmax(similarities, dim=1).detach().flatten() * 100\n",
    "idx = torch.argmax(probs)\n",
    "print(f\"Predicted Class (Best Prediction): {test_set.get_unique_classes()[idx]}\")\n",
    "indeces = torch.topk(probs, k=3).indices\n",
    "print(f\"Predicted Classes (Best Match To Worst): {test_set.get_unique_classes()[indeces[0]]}, {test_set.get_unique_classes()[indeces[1]]}, {test_set.get_unique_classes()[indeces[2]]}\")\n",
    "print(f\"True Class: {class_name}\")\n",
    "\n",
    "#ipd.Audio(filename=path)"
   ]
  },
  {
   "cell_type": "code",
   "execution_count": 4,
   "metadata": {},
   "outputs": [
    {
     "data": {
      "text/plain": [
       "<BarContainer object of 81 artists>"
      ]
     },
     "execution_count": 4,
     "metadata": {},
     "output_type": "execute_result"
    },
    {
     "data": {
      "image/png": "[encoded data removed]",
      "text/plain": [
       "<Figure size 1600x700 with 1 Axes>"
      ]
     },
     "metadata": {},
     "output_type": "display_data"
    }
   ],
   "source": [
    "fig = plt.figure(2, figsize=(16, 7))\n",
    "ax = fig.subplots(1)\n",
    "ax.set_title(\"Zero-Shot Classification\")\n",
    "ax.set_ylim(0, 100)\n",
    "ax.bar(range(len(probs)), height=probs, color=graphics_settings.primary_color)"
   ]
  },
  {
   "cell_type": "markdown",
   "metadata": {},
   "source": [
    "# Testing Framework"
   ]
  },
  {
   "cell_type": "code",
   "execution_count": 30,
   "metadata": {},
   "outputs": [
    {
     "name": "stderr",
     "output_type": "stream",
     "text": [
      "100%|██████████| 1000/1000 [22:56<00:00,  1.38s/it] \n"
     ]
    }
   ],
   "source": [
    "from sklearn.metrics import accuracy_score, average_precision_score\n",
    "from tqdm import tqdm\n",
    "\n",
    "k_tests = 1000\n",
    "\n",
    "label_embeddings = msclap_model.get_text_embeddings(list(ucs_classes['class_to_int'].keys()))\n",
    "\n",
    "pred = []\n",
    "true = []\n",
    "for i in tqdm(range(k_tests)):\n",
    "    sample_idx = random.randint(0, len(test_set)-1)\n",
    "    path, label, class_name = test_set[sample_idx]\n",
    "\n",
    "    audio_embeddings = msclap_model.get_audio_embeddings([path])\n",
    "    similarities = msclap_model.compute_similarity(audio_embeddings, label_embeddings)\n",
    "    similarities = similarities.detach()\n",
    "\n",
    "    probs = torch.softmax(similarities, dim=1).detach().flatten() * 100\n",
    "    idx = torch.argmax(probs)\n",
    "    pred.append(idx.item())\n",
    "    true.append(ucs_classes['class_to_int'][class_name])\n",
    "\n",
    "    #indeces = torch.topk(probs, k=3).indices\n",
    "\n",
    "\n",
    "#similarities = similarities.detach()\n",
    "#print(f\"Shape: {similarities.shape}\")\n",
    "\n",
    "#print(f\"Predicted Class (Best Prediction): {test_set.get_unique_classes()[idx]}\")\n",
    "#indeces = torch.topk(probs, k=3).indices\n",
    "#print(f\"Predicted Classes (Best Match To Worst): {test_set.get_unique_classes()[indeces[0]]}, {test_set.get_unique_classes()[indeces[1]]}, {test_set.get_unique_classes()[indeces[2]]}\")\n",
    "#print(f\"True Class: {class_name}\")"
   ]
  },
  {
   "cell_type": "code",
   "execution_count": 38,
   "metadata": {},
   "outputs": [
    {
     "name": "stdout",
     "output_type": "stream",
     "text": [
      "Accuracy Score: 0.279\n",
      "Average Precision Score: 0.006289124641864409\n"
     ]
    }
   ],
   "source": [
    "import numpy as np\n",
    "accuracy = accuracy_score(true, pred)\n",
    "print(f\"Accuracy Score: {accuracy}\")\n",
    "ap = average_precision_score(np.array(true).reshape(-1, 1), np.array(pred).reshape(-1, 1))\n",
    "print(f\"Average Precision Score: {ap}\")"
   ]
  },
  {
   "cell_type": "code",
   "execution_count": 32,
   "metadata": {},
   "outputs": [
    {
     "name": "stdout",
     "output_type": "stream",
     "text": [
      "[52, 47, 69, 70, 70, 72, 1, 57, 32, 70, 23, 7, 78, 68, 70, 12, 25, 28, 66, 68, 70, 70, 72, 70, 34, 72, 70, 72, 20, 66, 66, 12, 70, 1, 66, 3, 68, 34, 22, 70, 52, 72, 70, 70, 46, 70, 20, 24, 28, 32, 4, 18, 11, 9, 53, 70, 70, 13, 58, 72, 70, 22, 46, 7, 70, 28, 18, 34, 20, 66, 52, 14, 23, 23, 3, 22, 7, 46, 3, 18, 70, 60, 1, 32, 31, 5, 28, 8, 3, 70, 13, 35, 7, 58, 3, 8, 72, 18, 32, 5, 68, 70, 18, 72, 18, 70, 70, 68, 24, 70, 23, 46, 68, 50, 72, 22, 46, 70, 70, 8, 59, 13, 70, 16, 27, 70, 70, 53, 34, 32, 72, 70, 52, 5, 37, 70, 46, 34, 3, 19, 70, 3, 46, 70, 66, 68, 18, 46, 18, 52, 3, 3, 22, 20, 78, 11, 72, 72, 28, 41, 53, 26, 52, 11, 60, 57, 32, 72, 5, 59, 70, 24, 70, 72, 74, 66, 11, 5, 45, 72, 78, 18, 54, 70, 66, 72, 57, 67, 18, 58, 16, 66, 50, 72, 32, 70, 60, 19, 52, 18, 72, 70, 70, 13, 8, 45, 28, 67, 68, 70, 5, 22, 52, 63, 19, 70, 7, 12, 4, 72, 52, 70, 34, 46, 9, 23, 72, 18, 72, 34, 70, 46, 70, 1, 70, 4, 20, 28, 60, 46, 24, 70, 70, 23, 45, 3, 20, 58, 73, 70, 72, 16, 78, 46, 25, 41, 18, 45, 72, 52, 53, 27, 26, 7, 70, 11, 70, 64, 9, 51, 34, 57, 72, 72, 72, 32, 20, 10, 7, 70, 7, 3, 70, 18, 28, 46, 72, 11, 20, 52, 12, 20, 32, 25, 20, 72, 25, 8, 12, 25, 68, 58, 51, 52, 18, 70, 5, 68, 51, 23, 41, 78, 24, 72, 57, 52, 66, 70, 56, 16, 52, 70, 70, 51, 66, 78, 56, 70, 20, 72, 34, 28, 31, 11, 3, 70, 66, 58, 46, 57, 69, 70, 22, 70, 34, 46, 16, 70, 57, 51, 52, 9, 52, 46, 20, 52, 52, 70, 51, 70, 5, 18, 3, 1, 70, 72, 70, 37, 49, 32, 22, 3, 73, 59, 23, 2, 72, 67, 68, 72, 52, 70, 10, 70, 52, 6, 70, 1, 69, 78, 34, 70, 72, 3, 70, 67, 51, 12, 70, 70, 52, 70, 74, 14, 10, 25, 52, 72, 68, 70, 72, 70, 46, 26, 72, 68, 9, 11, 67, 66, 11, 34, 18, 8, 25, 23, 14, 72, 78, 22, 46, 70, 18, 52, 12, 51, 24, 46, 70, 70, 32, 70, 66, 34, 24, 78, 70, 57, 24, 22, 34, 1, 72, 1, 70, 2, 25, 70, 18, 72, 70, 24, 3, 69, 31, 20, 72, 70, 72, 25, 70, 6, 26, 68, 18, 66, 19, 70, 70, 67, 23, 46, 10, 23, 72, 72, 20, 46, 10, 37, 54, 68, 46, 69, 73, 13, 66, 5, 68, 70, 12, 13, 54, 46, 52, 13, 28, 70, 20, 9, 1, 74, 66, 72, 4, 70, 46, 70, 7, 70, 46, 70, 1, 18, 70, 23, 66, 34, 22, 52, 58, 3, 28, 52, 72, 14, 2, 70, 70, 13, 70, 72, 72, 25, 34, 70, 72, 54, 70, 70, 70, 46, 20, 18, 26, 78, 3, 69, 58, 68, 22, 70, 56, 70, 3, 12, 70, 26, 13, 70, 1, 56, 3, 37, 35, 11, 58, 70, 41, 14, 25, 58, 51, 72, 26, 3, 52, 70, 70, 60, 37, 45, 71, 12, 3, 25, 12, 70, 16, 52, 78, 70, 78, 28, 7, 51, 70, 49, 12, 52, 5, 18, 70, 28, 22, 18, 18, 52, 20, 70, 60, 49, 78, 37, 70, 46, 74, 68, 70, 46, 8, 14, 12, 72, 18, 23, 26, 20, 18, 9, 18, 70, 72, 25, 70, 34, 18, 12, 46, 18, 3, 13, 7, 3, 52, 24, 3, 52, 35, 70, 4, 22, 52, 19, 18, 12, 19, 25, 8, 3, 3, 5, 3, 69, 5, 56, 68, 19, 14, 23, 59, 5, 3, 19, 72, 3, 16, 4, 72, 74, 1, 35, 13, 51, 3, 78, 72, 41, 56, 52, 70, 70, 8, 46, 12, 78, 24, 70, 66, 66, 23, 70, 20, 70, 70, 72, 70, 3, 70, 28, 70, 6, 4, 70, 10, 18, 52, 70, 26, 70, 46, 27, 70, 15, 70, 72, 3, 67, 18, 70, 72, 13, 60, 23, 6, 1, 70, 18, 72, 70, 14, 70, 70, 7, 22, 3, 23, 32, 3, 72, 78, 72, 29, 72, 70, 46, 70, 19, 22, 32, 78, 70, 3, 52, 3, 70, 78, 70, 22, 58, 60, 46, 29, 20, 72, 52, 67, 70, 13, 20, 16, 70, 72, 78, 70, 12, 3, 66, 19, 69, 67, 24, 3, 46, 6, 70, 59, 57, 58, 3, 72, 20, 28, 53, 70, 13, 5, 5, 22, 25, 70, 23, 3, 18, 46, 70, 68, 70, 28, 68, 56, 78, 70, 25, 72, 70, 1, 46, 78, 59, 20, 25, 68, 52, 18, 73, 69, 70, 67, 34, 70, 20, 8, 24, 70, 57, 70, 19, 70, 53, 41, 26, 70, 18, 28, 1, 12, 52, 58, 72, 20, 3, 41, 70, 70, 37, 78, 66, 72, 68, 7, 70, 72, 20, 28, 70, 46, 19, 70, 28, 58, 56, 20, 34, 22, 52, 3, 70, 4, 14, 72, 72, 70, 67, 46, 72, 58, 78, 52, 70, 56, 56, 46, 68, 70, 45, 52, 60, 18, 3, 70, 7, 58, 70, 70, 46, 52, 66, 52, 16, 64, 18, 19, 12, 10, 20, 32, 22, 74, 70, 70, 72, 20, 69, 70, 19, 19, 24, 70, 72, 32, 46, 72, 51, 52, 70, 56, 70, 52, 72, 72, 28, 51, 13, 18, 8, 53, 72, 45, 20, 27, 70, 70, 3, 78, 78, 34, 34, 52, 68, 52, 72, 13, 46, 8, 19, 29, 66, 52, 1, 12, 22, 5, 72, 3, 1, 56, 72, 70, 69]\n",
      "[55, 72, 50, 55, 81, 72, 1, 55, 51, 70, 39, 53, 78, 34, 70, 4, 67, 66, 66, 65, 36, 72, 72, 63, 47, 72, 36, 72, 3, 80, 66, 81, 36, 72, 19, 3, 10, 34, 67, 53, 16, 72, 74, 72, 34, 24, 3, 24, 36, 65, 3, 50, 11, 3, 53, 21, 72, 55, 58, 3, 21, 38, 42, 53, 67, 21, 21, 53, 20, 66, 31, 31, 31, 31, 21, 10, 7, 19, 3, 72, 53, 71, 3, 32, 31, 22, 28, 3, 3, 63, 55, 35, 34, 76, 3, 8, 72, 72, 32, 65, 55, 72, 36, 72, 47, 17, 72, 17, 24, 21, 71, 39, 72, 50, 72, 55, 72, 15, 74, 8, 11, 50, 72, 16, 67, 72, 21, 53, 34, 32, 72, 36, 3, 73, 53, 17, 74, 3, 69, 3, 53, 3, 55, 36, 19, 68, 3, 34, 53, 24, 3, 3, 55, 20, 78, 55, 72, 72, 75, 9, 53, 26, 50, 11, 55, 57, 72, 72, 5, 36, 0, 24, 55, 72, 74, 66, 11, 24, 55, 72, 74, 72, 53, 53, 55, 72, 68, 55, 72, 74, 55, 55, 55, 72, 65, 36, 55, 3, 72, 47, 72, 68, 36, 13, 3, 16, 21, 31, 57, 36, 3, 55, 81, 59, 19, 70, 21, 1, 4, 72, 55, 55, 57, 39, 69, 39, 72, 9, 72, 47, 21, 74, 81, 9, 36, 4, 50, 64, 22, 39, 24, 55, 17, 71, 55, 72, 3, 3, 20, 72, 3, 65, 78, 39, 24, 72, 3, 45, 72, 35, 53, 68, 47, 7, 66, 11, 70, 35, 47, 72, 3, 68, 72, 72, 9, 31, 20, 32, 7, 11, 7, 3, 55, 72, 49, 39, 72, 73, 3, 55, 72, 3, 5, 72, 3, 72, 50, 3, 67, 55, 13, 74, 47, 55, 36, 4, 24, 51, 72, 55, 72, 78, 24, 72, 68, 81, 31, 36, 67, 64, 30, 21, 63, 72, 46, 78, 56, 48, 3, 72, 34, 50, 31, 11, 3, 73, 65, 74, 74, 56, 69, 53, 55, 63, 34, 74, 55, 63, 55, 72, 72, 9, 17, 74, 3, 35, 24, 63, 63, 11, 73, 36, 69, 78, 36, 47, 74, 74, 67, 3, 38, 3, 73, 73, 35, 7, 72, 9, 55, 72, 47, 24, 39, 53, 68, 6, 55, 3, 69, 78, 34, 65, 72, 3, 70, 67, 9, 4, 75, 21, 55, 21, 74, 55, 39, 67, 81, 72, 36, 39, 72, 72, 39, 17, 72, 68, 9, 11, 47, 16, 73, 47, 3, 78, 72, 43, 3, 72, 78, 72, 55, 36, 3, 65, 81, 47, 72, 9, 17, 70, 3, 68, 16, 3, 55, 74, 7, 57, 24, 31, 3, 3, 72, 72, 63, 4, 12, 73, 55, 72, 50, 24, 21, 3, 31, 20, 72, 24, 72, 50, 19, 6, 50, 49, 72, 80, 19, 65, 17, 47, 35, 42, 57, 39, 72, 72, 3, 34, 5, 21, 53, 47, 43, 65, 73, 55, 66, 73, 55, 70, 35, 75, 48, 74, 55, 55, 66, 55, 3, 9, 72, 74, 66, 72, 4, 68, 74, 72, 53, 70, 74, 53, 1, 55, 72, 71, 80, 47, 17, 55, 78, 3, 28, 42, 72, 47, 2, 67, 49, 55, 59, 72, 72, 50, 78, 55, 72, 53, 21, 17, 17, 55, 3, 47, 72, 74, 72, 55, 76, 55, 22, 3, 56, 68, 3, 67, 70, 26, 67, 70, 1, 55, 3, 3, 35, 34, 74, 10, 20, 72, 25, 76, 72, 72, 0, 10, 73, 70, 17, 55, 74, 68, 70, 31, 72, 25, 74, 3, 16, 72, 3, 53, 78, 53, 7, 72, 73, 72, 47, 24, 4, 3, 63, 66, 50, 3, 72, 65, 65, 70, 8, 50, 66, 3, 3, 39, 74, 55, 63, 74, 3, 19, 4, 72, 34, 35, 3, 20, 18, 9, 72, 55, 72, 55, 66, 34, 72, 24, 74, 36, 3, 55, 10, 53, 55, 24, 3, 55, 35, 21, 8, 38, 35, 4, 72, 73, 19, 72, 8, 3, 3, 50, 65, 69, 73, 56, 11, 4, 68, 71, 21, 1, 21, 19, 72, 72, 56, 4, 72, 74, 1, 65, 53, 47, 3, 74, 72, 0, 67, 55, 81, 6, 3, 39, 24, 74, 24, 36, 66, 34, 34, 60, 20, 21, 72, 72, 65, 72, 68, 50, 50, 70, 20, 24, 72, 72, 65, 48, 55, 27, 74, 47, 53, 15, 48, 72, 9, 25, 15, 21, 72, 55, 60, 71, 26, 72, 55, 55, 72, 53, 36, 72, 24, 2, 10, 3, 35, 36, 53, 3, 78, 3, 29, 72, 21, 39, 48, 73, 22, 16, 3, 13, 21, 55, 1, 21, 78, 70, 43, 58, 39, 74, 55, 3, 72, 34, 34, 21, 34, 3, 16, 70, 72, 3, 3, 67, 3, 55, 19, 3, 47, 24, 9, 74, 72, 21, 70, 49, 58, 10, 72, 73, 31, 53, 17, 53, 21, 73, 50, 55, 70, 55, 3, 72, 74, 21, 49, 36, 78, 51, 81, 21, 17, 25, 72, 24, 72, 39, 72, 53, 65, 55, 47, 55, 3, 73, 72, 49, 17, 34, 21, 3, 3, 50, 21, 62, 50, 4, 70, 53, 72, 3, 34, 24, 74, 1, 65, 24, 76, 72, 20, 3, 72, 70, 6, 74, 78, 66, 72, 50, 53, 49, 72, 9, 75, 70, 39, 19, 68, 28, 58, 56, 3, 4, 55, 55, 21, 73, 4, 19, 72, 72, 40, 17, 74, 72, 58, 78, 81, 0, 55, 56, 39, 53, 70, 55, 72, 71, 36, 21, 11, 7, 47, 70, 59, 19, 63, 19, 50, 55, 35, 3, 19, 53, 67, 3, 31, 59, 74, 63, 70, 72, 20, 69, 44, 19, 19, 24, 55, 72, 40, 34, 72, 72, 73, 36, 55, 40, 55, 72, 51, 55, 72, 55, 21, 3, 53, 72, 55, 3, 47, 70, 65, 3, 55, 78, 19, 60, 50, 60, 55, 72, 12, 39, 8, 4, 55, 55, 65, 1, 67, 36, 73, 72, 3, 1, 56, 72, 68, 69]\n"
     ]
    }
   ],
   "source": [
    "# IDEA: framework lets you easily add and remove classes.\n",
    "\n",
    "print(pred)\n",
    "print(true)"
   ]
  },
  {
   "cell_type": "code",
   "execution_count": null,
   "metadata": {},
   "outputs": [],
   "source": [
    "def perform_evaluation(clap_model, metrics, test_set):\n",
    "    \"\"\"\n",
    "\n",
    "    Args:\n",
    "    - clap_model: pre-trained msclap or laion_clap mdoel\n",
    "    - metrics: literal string list. \n",
    "    \"\"\"\n",
    "\n",
    "\n",
    "perform_evaluation(msclap_model)\n",
    "\n"
   ]
  }
 ],
 "metadata": {
  "kernelspec": {
   "display_name": "semsearch",
   "language": "python",
   "name": "python3"
  },
  "language_info": {
   "codemirror_mode": {
    "name": "ipython",
    "version": 3
   },
   "file_extension": ".py",
   "mimetype": "text/x-python",
   "name": "python",
   "nbconvert_exporter": "python",
   "pygments_lexer": "ipython3",
   "version": "3.10.13"
  }
 },
 "nbformat": 4,
 "nbformat_minor": 2
}
