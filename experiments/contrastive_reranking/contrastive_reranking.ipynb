{
 "cells": [
  {
   "cell_type": "markdown",
   "metadata": {},
   "source": [
    "1. Generate n samples from prompt using AudioLDM and AudioGEN\n",
    "2. Compute similarity between prompt and MSCLAP / LAION CLAP (perhaps an independent implementation is best)\n",
    "3. Apply softmax\n",
    "4. Save torch.topk samples\n",
    "5. Try k = [1, 8, 64, 512]\n",
    "\n",
    "Do models based on CLAPs benefit more from this method?"
   ]
  },
  {
   "cell_type": "code",
   "execution_count": 9,
   "metadata": {},
   "outputs": [],
   "source": [
    "from diffusers import AudioLDMPipeline\n",
    "from audiocraft.models import AudioGen\n",
    "import torch\n",
    "import torchaudio\n",
    "import laion_clap\n",
    "import os\n",
    "import IPython.display as ipd\n",
    "import json"
   ]
  },
  {
   "cell_type": "code",
   "execution_count": 3,
   "metadata": {},
   "outputs": [],
   "source": [
    "def set_cuda_device():\n",
    "    device_name = \"CPU\"\n",
    "    if os.name == \"posix\":\n",
    "        device = torch.device('mps') if torch.cuda.is_available() else torch.device('cpu')\n",
    "    if os.name == \"nt\":\n",
    "        if (torch.cuda.is_available() != True):\n",
    "            device = torch.device('cpu')\n",
    "        else:\n",
    "            id = torch.cuda.current_device()\n",
    "            device = torch.device('cuda')\n",
    "            device_name = torch.cuda.get_device_name(id)\n",
    "\n",
    "    return device, device_name\n",
    "\n",
    "def contrastive_reranking(clap_model, audio_model, top_k = 5):\n",
    "    pass\n",
    "    # Top k as list"
   ]
  },
  {
   "cell_type": "code",
   "execution_count": 16,
   "metadata": {},
   "outputs": [],
   "source": [
    "# Parameters\n",
    "files_to_generate = 1000\n",
    "seconds_per_file = 5\n",
    "device = set_cuda_device()\n",
    "output_dir_audiogen = \".generated_audio/audiogen\"\n",
    "output_dir_audioldm = \".generated_audio/audioldm\"\n",
    "\n",
    "with open('ucs_classes.json', 'r', encoding='utf-8') as f:\n",
    "    ucs_classes = json.load(f)"
   ]
  },
  {
   "cell_type": "code",
   "execution_count": null,
   "metadata": {},
   "outputs": [],
   "source": [
    "pipe = AudioLDMPipeline.from_pretrained(\"cvssp/audioldm\", torch_dtype=torch.float16)\n",
    "pipe = pipe.to(\"cuda\")\n",
    "\n",
    "prompt = \"Techno music with a strong, upbeat tempo and high melodic riffs.\"\n",
    "audio = pipe(prompt, num_inference_steps=10, audio_length_in_s=seconds_per_file).audios[0]"
   ]
  },
  {
   "cell_type": "code",
   "execution_count": null,
   "metadata": {},
   "outputs": [],
   "source": [
    "\n",
    "model = AudioGen.get_pretrained('facebook/audiogen-medium')\n",
    "model.set_generation_params(duration=seconds_per_file)\n",
    "descriptions = ['dog barking', 'sirene of an emergency vehicle', 'footsteps in a corridor']\n",
    "wav = model.generate(descriptions)\n",
    "\n",
    "for idx, one_wav in enumerate(wav):\n",
    "    # Will save under {idx}.wav, with loudness normalization at -14 db LUFS.\n",
    "    audio_write(f'{idx}', one_wav.cpu(), model.sample_rate, strategy=\"loudness\", loudness_compressor=True)\n"
   ]
  },
  {
   "cell_type": "code",
   "execution_count": null,
   "metadata": {},
   "outputs": [],
   "source": []
  }
 ],
 "metadata": {
  "kernelspec": {
   "display_name": "semsearch",
   "language": "python",
   "name": "python3"
  },
  "language_info": {
   "codemirror_mode": {
    "name": "ipython",
    "version": 3
   },
   "file_extension": ".py",
   "mimetype": "text/x-python",
   "name": "python",
   "nbconvert_exporter": "python",
   "pygments_lexer": "ipython3",
   "version": "3.9.18"
  }
 },
 "nbformat": 4,
 "nbformat_minor": 2
}
