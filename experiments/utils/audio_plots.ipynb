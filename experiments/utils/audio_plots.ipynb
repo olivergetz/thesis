{
 "cells": [
  {
   "cell_type": "code",
   "execution_count": null,
   "metadata": {},
   "outputs": [],
   "source": [
    "import pandas as pd\n",
    "import matplotlib.pyplot as plt\n",
    "import librosa"
   ]
  },
  {
   "cell_type": "code",
   "execution_count": null,
   "metadata": {},
   "outputs": [],
   "source": [
    "df = pd.read_csv(settings_kfold17[\"ground_truth\"] + f\"zs_fold_{10}.csv\") # not 0-indexed\n",
    "p = df['path'][33]\n",
    "audios, sr = librosa.load(p.replace(\"E:/\", \"D:/\"), duration=5)\n",
    "fig, axes = plt.subplots(nrows=1, ncols=2, sharex=False, figsize=(12,4))\n",
    "axes[0].plot(audios)\n",
    "xlocs = np.arange(0, len(audios), sr)\n",
    "\n",
    "axes[0].set_xticks(xlocs, labels=xlocs/sr)\n",
    "axes[0].set_title(\"Waveform\", fontsize=24, pad=10)\n",
    "axes[0].set_xlabel(\"Time (s)\", fontsize=18)\n",
    "axes[0].set_ylabel(\"Amplitude\", fontsize=18)\n",
    "\n",
    "axes[1].specgram(audios, NFFT=1024, Fs=sr)\n",
    "axes[1].set_title(\"Spectrogram\", fontsize=24, pad=10)\n",
    "axes[1].set_xlabel(\"Time (s)\", fontsize=18)\n",
    "axes[1].set_ylabel(\"Frequency (Hz)\", fontsize=18)\n",
    "\n",
    "fig.tight_layout()\n",
    "plt.savefig(\"audio_representations.pdf\")"
   ]
  }
 ],
 "metadata": {
  "language_info": {
   "name": "python"
  }
 },
 "nbformat": 4,
 "nbformat_minor": 2
}
