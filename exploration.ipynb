{
 "cells": [
  {
   "cell_type": "code",
   "execution_count": 1,
   "metadata": {},
   "outputs": [],
   "source": [
    "import torch"
   ]
  },
  {
   "cell_type": "code",
   "execution_count": 26,
   "metadata": {},
   "outputs": [
    {
     "name": "stdout",
     "output_type": "stream",
     "text": [
      "tensor([[5, 1, 6, 5, 6, 4],\n",
      "        [2, 5, 5, 9, 3, 1]])\n",
      "tensor([[4, 2],\n",
      "        [3, 2],\n",
      "        [6, 8],\n",
      "        [2, 2],\n",
      "        [8, 2],\n",
      "        [0, 4]])\n",
      "tensor([[ 24,  14,  34,  38,  30,  18],\n",
      "        [ 19,  13,  28,  33,  24,  14],\n",
      "        [ 46,  46,  76, 102,  60,  32],\n",
      "        [ 14,  12,  22,  28,  18,  10],\n",
      "        [ 44,  18,  58,  58,  54,  34],\n",
      "        [  8,  20,  20,  36,  12,   4]])\n",
      "tensor([[ 24,  14,  34,  38,  30,  18],\n",
      "        [ 19,  13,  28,  33,  24,  14],\n",
      "        [ 46,  46,  76, 102,  60,  32],\n",
      "        [ 14,  12,  22,  28,  18,  10],\n",
      "        [ 44,  18,  58,  58,  54,  34],\n",
      "        [  8,  20,  20,  36,  12,   4]])\n",
      "117\n"
     ]
    }
   ],
   "source": [
    "torch.manual_seed(1234)\n",
    "A, B = 2, 6\n",
    "x = torch.randint(0, 10, (A, B))\n",
    "w = torch.randint(0, 10, (B, A))\n",
    "\n",
    "print(x)\n",
    "print(w)\n",
    "print(torch.matmul(w, x))\n",
    "print(w @ x)\n",
    "print(5*4+3+6*6+5*2+6*8)"
   ]
  }
 ],
 "metadata": {
  "kernelspec": {
   "display_name": "semsearch",
   "language": "python",
   "name": "python3"
  },
  "language_info": {
   "codemirror_mode": {
    "name": "ipython",
    "version": 3
   },
   "file_extension": ".py",
   "mimetype": "text/x-python",
   "name": "python",
   "nbconvert_exporter": "python",
   "pygments_lexer": "ipython3",
   "version": "3.10.13"
  }
 },
 "nbformat": 4,
 "nbformat_minor": 2
}
